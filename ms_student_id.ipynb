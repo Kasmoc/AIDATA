{
 "cells": [
  {
   "cell_type": "code",
   "execution_count": 1,
   "metadata": {},
   "outputs": [],
   "source": [
    "import pandas as pd\n",
    "import numpy as np "
   ]
  },
  {
   "cell_type": "code",
   "execution_count": 2,
   "metadata": {},
   "outputs": [],
   "source": [
    "file_path = \"C:\\\\Users\\\\tonny\\\\OneDrive\\\\Desktop\\\\DAKI2 - Repo\\\\AI & Data\\\\Miniprojekt\\\\medical_students_dataset.csv\"\n",
    "\n",
    "df = pd.read_csv(file_path)\n",
    "\n",
    "if df is None:\n",
    "    print(\"File not valid\")"
   ]
  },
  {
   "cell_type": "code",
   "execution_count": null,
   "metadata": {},
   "outputs": [],
   "source": [
    "''' \n",
    "DUPLICATES HANDLING\n",
    "SLOW but MERGES duplicate row\n",
    "\n",
    "'''\n",
    "# Function to take the first non-null value in a Series\n",
    "def first_non_null(series):\n",
    "    non_null = series.dropna()\n",
    "    if not non_null.empty:\n",
    "        return non_null.iloc[0]\n",
    "    return np.nan\n",
    "\n",
    "# Group by 'Student ID' to get the size of each group\n",
    "group_sizes = df.groupby('Student ID').size()\n",
    "\n",
    "# Identify unique IDs (only one row) and duplicate IDs (more than one row)\n",
    "unique_ids = group_sizes[group_sizes == 1].index\n",
    "duplicate_ids = group_sizes[group_sizes > 1].index\n",
    "\n",
    "# Split the DataFrame\n",
    "unique_df = df[df['Student ID'].isin(unique_ids)]\n",
    "duplicate_df = df[df['Student ID'].isin(duplicate_ids)]\n",
    "\n",
    "# Merge duplicates: For each duplicate group, aggregate columns using first_non_null\n",
    "merged_duplicates = duplicate_df.groupby('Student ID', as_index=False).agg(first_non_null)\n",
    "\n",
    "# Combine the unique rows with the merged duplicate rows\n",
    "result_df = pd.concat([unique_df, merged_duplicates], ignore_index=True)\n",
    "\n",
    "# Sort by Student ID and remove empty rows\n",
    "df = result_df.sort_values('Student ID').reset_index(drop=True)"
   ]
  },
  {
   "cell_type": "code",
   "execution_count": 5,
   "metadata": {},
   "outputs": [],
   "source": [
    "'''\n",
    "DUPLICATES HANDLING\n",
    "FAST but ONLY KEEPS duplicate rows with LEAST NaN values\n",
    "\n",
    "'''\n",
    "# Count missing values per row\n",
    "df['missing_count'] = df.isna().sum(axis=1)\n",
    "\n",
    "# Keep the row with the fewest missing values for each Student ID\n",
    "df = df.loc[df.groupby('Student ID')['missing_count'].idxmin()]\n",
    "\n",
    "# Drop helper column\n",
    "df = df.drop(columns='missing_count')\n",
    "\n",
    "# Sort by Student ID and remove empty rows\n",
    "df = df.sort_values('Student ID').reset_index(drop=True)"
   ]
  },
  {
   "cell_type": "code",
   "execution_count": 7,
   "metadata": {},
   "outputs": [],
   "source": [
    "# Use interpolation to add missing Student ID's\n",
    "df['Student ID'] = df['Student ID'].interpolate(limit_direction='both').astype(float)"
   ]
  },
  {
   "cell_type": "code",
   "execution_count": 9,
   "metadata": {},
   "outputs": [
    {
     "name": "stdout",
     "output_type": "stream",
     "text": [
      "No duplicates found!\n"
     ]
    }
   ],
   "source": [
    "# Identify duplicate student_id rows\n",
    "duplicates = df[df['Student ID'].duplicated()]\n",
    "\n",
    "# Only proceed if we actually have duplicates\n",
    "if not duplicates.empty:\n",
    "    # Count how many times each Student ID occurs\n",
    "    id_counts = df['Student ID'].value_counts()\n",
    "\n",
    "    # Only keep counts > 1 (actual duplicates)\n",
    "    duplicates = id_counts[id_counts > 1]\n",
    "\n",
    "    # Print the Student IDs which have duplicates\n",
    "    print(\"Duplicate counts:\")\n",
    "    print(duplicates)\n",
    "else:\n",
    "    print(\"No duplicates found!\")"
   ]
  },
  {
   "cell_type": "code",
   "execution_count": 10,
   "metadata": {},
   "outputs": [
    {
     "name": "stdout",
     "output_type": "stream",
     "text": [
      "<bound method NDFrame.head of        Student ID   Age  Gender      Height     Weight Blood Type        BMI  \\\n",
      "0             1.0  18.0  Female  161.777924  72.354947          O  27.645835   \n",
      "1             2.0  34.0    Male  152.069157  47.630941          B  20.597139   \n",
      "2             3.0  32.0  Female  182.537664  55.741083          A  16.729017   \n",
      "3             4.0  30.0    Male  182.112867  63.332207          B  19.096042   \n",
      "4             5.0  23.0  Female  179.339293  46.234173          O  14.375143   \n",
      "...           ...   ...     ...         ...        ...        ...        ...   \n",
      "98971     99995.0  22.0    Male         NaN  70.282622        NaN  27.631082   \n",
      "98972     99997.0  29.0  Female  163.917675  45.225194        NaN  16.831734   \n",
      "98973     99998.0  34.0     NaN  173.275523  99.648914          B  33.189303   \n",
      "98974     99999.0  30.0  Female  156.446944  50.142824          A  20.486823   \n",
      "98975    100000.0  20.0  Female  153.927409  99.928405        NaN  42.175189   \n",
      "\n",
      "       Temperature  Heart Rate  Blood Pressure  Cholesterol Diabetes Smoking  \n",
      "0              NaN        95.0           109.0        203.0       No     NaN  \n",
      "1        98.714977        93.0           104.0        163.0       No      No  \n",
      "2        98.260293        76.0           130.0        216.0      Yes      No  \n",
      "3        98.839605        99.0           112.0        141.0       No     Yes  \n",
      "4        98.480008        95.0           139.0        231.0       No      No  \n",
      "...            ...         ...             ...          ...      ...     ...  \n",
      "98971    98.971976        86.0           134.0        208.0       No      No  \n",
      "98972    97.865785        62.0           125.0        198.0       No     Yes  \n",
      "98973    98.768210        60.0            90.0        154.0       No      No  \n",
      "98974    98.994212        61.0           106.0        225.0       No      No  \n",
      "98975    98.595817        95.0           133.0        132.0       No      No  \n",
      "\n",
      "[98976 rows x 13 columns]>\n"
     ]
    }
   ],
   "source": [
    "print(df.head)"
   ]
  }
 ],
 "metadata": {
  "kernelspec": {
   "display_name": "Main",
   "language": "python",
   "name": "python3"
  },
  "language_info": {
   "codemirror_mode": {
    "name": "ipython",
    "version": 3
   },
   "file_extension": ".py",
   "mimetype": "text/x-python",
   "name": "python",
   "nbconvert_exporter": "python",
   "pygments_lexer": "ipython3",
   "version": "3.12.6"
  }
 },
 "nbformat": 4,
 "nbformat_minor": 2
}
